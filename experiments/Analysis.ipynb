{
 "cells": [
  {
   "cell_type": "code",
   "execution_count": 1,
   "id": "dd3c7a48-c361-4fb3-b41f-11f776f0236d",
   "metadata": {},
   "outputs": [],
   "source": [
    "import pandas as pd\n",
    "import evaluate\n",
    "import sklearn\n",
    "\n",
    "metrics_df = pd.read_csv(f'metrics.csv')"
   ]
  },
  {
   "cell_type": "code",
   "execution_count": 2,
   "id": "14436e46-50a3-4a7d-a721-61531710721e",
   "metadata": {},
   "outputs": [
    {
     "name": "stdout",
     "output_type": "stream",
     "text": [
      "Defaulting to user installation because normal site-packages is not writeable\n",
      "Requirement already satisfied: spacy in /cluster/home/wiwong/.local/lib/python3.10/site-packages (3.6.0)\n",
      "Requirement already satisfied: spacy-legacy<3.1.0,>=3.0.11 in /cluster/home/wiwong/.local/lib/python3.10/site-packages (from spacy) (3.0.12)\n",
      "Requirement already satisfied: spacy-loggers<2.0.0,>=1.0.0 in /cluster/home/wiwong/.local/lib/python3.10/site-packages (from spacy) (1.0.4)\n",
      "Requirement already satisfied: murmurhash<1.1.0,>=0.28.0 in /cluster/home/wiwong/.local/lib/python3.10/site-packages (from spacy) (1.0.9)\n",
      "Requirement already satisfied: cymem<2.1.0,>=2.0.2 in /cluster/home/wiwong/.local/lib/python3.10/site-packages (from spacy) (2.0.7)\n",
      "Requirement already satisfied: preshed<3.1.0,>=3.0.2 in /cluster/home/wiwong/.local/lib/python3.10/site-packages (from spacy) (3.0.8)\n",
      "Requirement already satisfied: thinc<8.2.0,>=8.1.8 in /cluster/home/wiwong/.local/lib/python3.10/site-packages (from spacy) (8.1.10)\n",
      "Requirement already satisfied: wasabi<1.2.0,>=0.9.1 in /cluster/home/wiwong/.local/lib/python3.10/site-packages (from spacy) (1.1.2)\n",
      "Requirement already satisfied: srsly<3.0.0,>=2.4.3 in /cluster/home/wiwong/.local/lib/python3.10/site-packages (from spacy) (2.4.6)\n",
      "Requirement already satisfied: catalogue<2.1.0,>=2.0.6 in /cluster/home/wiwong/.local/lib/python3.10/site-packages (from spacy) (2.0.8)\n",
      "Requirement already satisfied: typer<0.10.0,>=0.3.0 in /cluster/home/wiwong/.local/lib/python3.10/site-packages (from spacy) (0.9.0)\n",
      "Requirement already satisfied: pathy>=0.10.0 in /cluster/home/wiwong/.local/lib/python3.10/site-packages (from spacy) (0.10.2)\n",
      "Requirement already satisfied: smart-open<7.0.0,>=5.2.1 in /cluster/apps/nss/gcc-8.2.0/python/3.10.4/x86_64/lib64/python3.10/site-packages (from spacy) (6.0.0)\n",
      "Requirement already satisfied: tqdm<5.0.0,>=4.38.0 in /cluster/apps/nss/gcc-8.2.0/python/3.10.4/x86_64/lib64/python3.10/site-packages (from spacy) (4.64.0)\n",
      "Requirement already satisfied: numpy>=1.15.0 in /cluster/apps/nss/jupyterhub/3.5.1/lib64/python3.10/site-packages (from spacy) (1.24.2)\n",
      "Requirement already satisfied: requests<3.0.0,>=2.13.0 in /cluster/apps/nss/jupyterhub/3.5.1/lib64/python3.10/site-packages (from spacy) (2.28.1)\n",
      "Requirement already satisfied: pydantic!=1.8,!=1.8.1,<1.11.0,>=1.7.4 in /cluster/home/wiwong/.local/lib/python3.10/site-packages (from spacy) (1.10.11)\n",
      "Requirement already satisfied: jinja2 in /cluster/apps/nss/jupyterhub/3.5.1/lib64/python3.10/site-packages (from spacy) (3.1.2)\n",
      "Requirement already satisfied: setuptools in /cluster/apps/nss/jupyterhub/3.5.1/lib64/python3.10/site-packages (from spacy) (65.6.3)\n",
      "Requirement already satisfied: packaging>=20.0 in /cluster/apps/nss/jupyterhub/3.5.1/lib64/python3.10/site-packages (from spacy) (21.3)\n",
      "Requirement already satisfied: langcodes<4.0.0,>=3.2.0 in /cluster/home/wiwong/.local/lib/python3.10/site-packages (from spacy) (3.3.0)\n",
      "Requirement already satisfied: pyparsing!=3.0.5,>=2.0.2 in /cluster/apps/nss/jupyterhub/3.5.1/lib64/python3.10/site-packages (from packaging>=20.0->spacy) (3.0.9)\n",
      "Requirement already satisfied: typing-extensions>=4.2.0 in /cluster/apps/nss/gcc-8.2.0/python/3.10.4/x86_64/lib64/python3.10/site-packages (from pydantic!=1.8,!=1.8.1,<1.11.0,>=1.7.4->spacy) (4.2.0)\n",
      "Requirement already satisfied: charset-normalizer<3,>=2 in /cluster/apps/nss/jupyterhub/3.5.1/lib64/python3.10/site-packages (from requests<3.0.0,>=2.13.0->spacy) (2.1.1)\n",
      "Requirement already satisfied: idna<4,>=2.5 in /cluster/apps/nss/jupyterhub/3.5.1/lib64/python3.10/site-packages (from requests<3.0.0,>=2.13.0->spacy) (3.4)\n",
      "Requirement already satisfied: urllib3<1.27,>=1.21.1 in /cluster/apps/nss/jupyterhub/3.5.1/lib64/python3.10/site-packages (from requests<3.0.0,>=2.13.0->spacy) (1.26.13)\n",
      "Requirement already satisfied: certifi>=2017.4.17 in /cluster/apps/nss/jupyterhub/3.5.1/lib64/python3.10/site-packages (from requests<3.0.0,>=2.13.0->spacy) (2022.12.7)\n",
      "Requirement already satisfied: blis<0.8.0,>=0.7.8 in /cluster/home/wiwong/.local/lib/python3.10/site-packages (from thinc<8.2.0,>=8.1.8->spacy) (0.7.9)\n",
      "Requirement already satisfied: confection<1.0.0,>=0.0.1 in /cluster/home/wiwong/.local/lib/python3.10/site-packages (from thinc<8.2.0,>=8.1.8->spacy) (0.1.0)\n",
      "Requirement already satisfied: click<9.0.0,>=7.1.1 in /cluster/apps/nss/jupyterhub/3.5.1/lib64/python3.10/site-packages (from typer<0.10.0,>=0.3.0->spacy) (8.1.3)\n",
      "Requirement already satisfied: MarkupSafe>=2.0 in /cluster/apps/nss/jupyterhub/3.5.1/lib64/python3.10/site-packages (from jinja2->spacy) (2.1.1)\n",
      "Defaulting to user installation because normal site-packages is not writeable\n",
      "Collecting en-core-web-sm==3.6.0\n",
      "  Downloading https://github.com/explosion/spacy-models/releases/download/en_core_web_sm-3.6.0/en_core_web_sm-3.6.0-py3-none-any.whl (12.8 MB)\n",
      "\u001b[2K     \u001b[90m━━━━━━━━━━━━━━━━━━━━━━━━━━━━━━━━━━━━━━━━\u001b[0m \u001b[32m12.8/12.8 MB\u001b[0m \u001b[31m12.4 MB/s\u001b[0m eta \u001b[36m0:00:00\u001b[0m00:01\u001b[0m00:01\u001b[0m\n",
      "\u001b[?25hRequirement already satisfied: spacy<3.7.0,>=3.6.0 in /cluster/home/wiwong/.local/lib/python3.10/site-packages (from en-core-web-sm==3.6.0) (3.6.0)\n",
      "Requirement already satisfied: spacy-legacy<3.1.0,>=3.0.11 in /cluster/home/wiwong/.local/lib/python3.10/site-packages (from spacy<3.7.0,>=3.6.0->en-core-web-sm==3.6.0) (3.0.12)\n",
      "Requirement already satisfied: spacy-loggers<2.0.0,>=1.0.0 in /cluster/home/wiwong/.local/lib/python3.10/site-packages (from spacy<3.7.0,>=3.6.0->en-core-web-sm==3.6.0) (1.0.4)\n",
      "Requirement already satisfied: murmurhash<1.1.0,>=0.28.0 in /cluster/home/wiwong/.local/lib/python3.10/site-packages (from spacy<3.7.0,>=3.6.0->en-core-web-sm==3.6.0) (1.0.9)\n",
      "Requirement already satisfied: cymem<2.1.0,>=2.0.2 in /cluster/home/wiwong/.local/lib/python3.10/site-packages (from spacy<3.7.0,>=3.6.0->en-core-web-sm==3.6.0) (2.0.7)\n",
      "Requirement already satisfied: preshed<3.1.0,>=3.0.2 in /cluster/home/wiwong/.local/lib/python3.10/site-packages (from spacy<3.7.0,>=3.6.0->en-core-web-sm==3.6.0) (3.0.8)\n",
      "Requirement already satisfied: thinc<8.2.0,>=8.1.8 in /cluster/home/wiwong/.local/lib/python3.10/site-packages (from spacy<3.7.0,>=3.6.0->en-core-web-sm==3.6.0) (8.1.10)\n",
      "Requirement already satisfied: wasabi<1.2.0,>=0.9.1 in /cluster/home/wiwong/.local/lib/python3.10/site-packages (from spacy<3.7.0,>=3.6.0->en-core-web-sm==3.6.0) (1.1.2)\n",
      "Requirement already satisfied: srsly<3.0.0,>=2.4.3 in /cluster/home/wiwong/.local/lib/python3.10/site-packages (from spacy<3.7.0,>=3.6.0->en-core-web-sm==3.6.0) (2.4.6)\n",
      "Requirement already satisfied: catalogue<2.1.0,>=2.0.6 in /cluster/home/wiwong/.local/lib/python3.10/site-packages (from spacy<3.7.0,>=3.6.0->en-core-web-sm==3.6.0) (2.0.8)\n",
      "Requirement already satisfied: typer<0.10.0,>=0.3.0 in /cluster/home/wiwong/.local/lib/python3.10/site-packages (from spacy<3.7.0,>=3.6.0->en-core-web-sm==3.6.0) (0.9.0)\n",
      "Requirement already satisfied: pathy>=0.10.0 in /cluster/home/wiwong/.local/lib/python3.10/site-packages (from spacy<3.7.0,>=3.6.0->en-core-web-sm==3.6.0) (0.10.2)\n",
      "Requirement already satisfied: smart-open<7.0.0,>=5.2.1 in /cluster/apps/nss/gcc-8.2.0/python/3.10.4/x86_64/lib64/python3.10/site-packages (from spacy<3.7.0,>=3.6.0->en-core-web-sm==3.6.0) (6.0.0)\n",
      "Requirement already satisfied: tqdm<5.0.0,>=4.38.0 in /cluster/apps/nss/gcc-8.2.0/python/3.10.4/x86_64/lib64/python3.10/site-packages (from spacy<3.7.0,>=3.6.0->en-core-web-sm==3.6.0) (4.64.0)\n",
      "Requirement already satisfied: numpy>=1.15.0 in /cluster/apps/nss/jupyterhub/3.5.1/lib64/python3.10/site-packages (from spacy<3.7.0,>=3.6.0->en-core-web-sm==3.6.0) (1.24.2)\n",
      "Requirement already satisfied: requests<3.0.0,>=2.13.0 in /cluster/apps/nss/jupyterhub/3.5.1/lib64/python3.10/site-packages (from spacy<3.7.0,>=3.6.0->en-core-web-sm==3.6.0) (2.28.1)\n",
      "Requirement already satisfied: pydantic!=1.8,!=1.8.1,<1.11.0,>=1.7.4 in /cluster/home/wiwong/.local/lib/python3.10/site-packages (from spacy<3.7.0,>=3.6.0->en-core-web-sm==3.6.0) (1.10.11)\n",
      "Requirement already satisfied: jinja2 in /cluster/apps/nss/jupyterhub/3.5.1/lib64/python3.10/site-packages (from spacy<3.7.0,>=3.6.0->en-core-web-sm==3.6.0) (3.1.2)\n",
      "Requirement already satisfied: setuptools in /cluster/apps/nss/jupyterhub/3.5.1/lib64/python3.10/site-packages (from spacy<3.7.0,>=3.6.0->en-core-web-sm==3.6.0) (65.6.3)\n",
      "Requirement already satisfied: packaging>=20.0 in /cluster/apps/nss/jupyterhub/3.5.1/lib64/python3.10/site-packages (from spacy<3.7.0,>=3.6.0->en-core-web-sm==3.6.0) (21.3)\n",
      "Requirement already satisfied: langcodes<4.0.0,>=3.2.0 in /cluster/home/wiwong/.local/lib/python3.10/site-packages (from spacy<3.7.0,>=3.6.0->en-core-web-sm==3.6.0) (3.3.0)\n",
      "Requirement already satisfied: pyparsing!=3.0.5,>=2.0.2 in /cluster/apps/nss/jupyterhub/3.5.1/lib64/python3.10/site-packages (from packaging>=20.0->spacy<3.7.0,>=3.6.0->en-core-web-sm==3.6.0) (3.0.9)\n",
      "Requirement already satisfied: typing-extensions>=4.2.0 in /cluster/apps/nss/gcc-8.2.0/python/3.10.4/x86_64/lib64/python3.10/site-packages (from pydantic!=1.8,!=1.8.1,<1.11.0,>=1.7.4->spacy<3.7.0,>=3.6.0->en-core-web-sm==3.6.0) (4.2.0)\n",
      "Requirement already satisfied: charset-normalizer<3,>=2 in /cluster/apps/nss/jupyterhub/3.5.1/lib64/python3.10/site-packages (from requests<3.0.0,>=2.13.0->spacy<3.7.0,>=3.6.0->en-core-web-sm==3.6.0) (2.1.1)\n",
      "Requirement already satisfied: idna<4,>=2.5 in /cluster/apps/nss/jupyterhub/3.5.1/lib64/python3.10/site-packages (from requests<3.0.0,>=2.13.0->spacy<3.7.0,>=3.6.0->en-core-web-sm==3.6.0) (3.4)\n",
      "Requirement already satisfied: urllib3<1.27,>=1.21.1 in /cluster/apps/nss/jupyterhub/3.5.1/lib64/python3.10/site-packages (from requests<3.0.0,>=2.13.0->spacy<3.7.0,>=3.6.0->en-core-web-sm==3.6.0) (1.26.13)\n",
      "Requirement already satisfied: certifi>=2017.4.17 in /cluster/apps/nss/jupyterhub/3.5.1/lib64/python3.10/site-packages (from requests<3.0.0,>=2.13.0->spacy<3.7.0,>=3.6.0->en-core-web-sm==3.6.0) (2022.12.7)\n",
      "Requirement already satisfied: blis<0.8.0,>=0.7.8 in /cluster/home/wiwong/.local/lib/python3.10/site-packages (from thinc<8.2.0,>=8.1.8->spacy<3.7.0,>=3.6.0->en-core-web-sm==3.6.0) (0.7.9)\n",
      "Requirement already satisfied: confection<1.0.0,>=0.0.1 in /cluster/home/wiwong/.local/lib/python3.10/site-packages (from thinc<8.2.0,>=8.1.8->spacy<3.7.0,>=3.6.0->en-core-web-sm==3.6.0) (0.1.0)\n",
      "Requirement already satisfied: click<9.0.0,>=7.1.1 in /cluster/apps/nss/jupyterhub/3.5.1/lib64/python3.10/site-packages (from typer<0.10.0,>=0.3.0->spacy<3.7.0,>=3.6.0->en-core-web-sm==3.6.0) (8.1.3)\n",
      "Requirement already satisfied: MarkupSafe>=2.0 in /cluster/apps/nss/jupyterhub/3.5.1/lib64/python3.10/site-packages (from jinja2->spacy<3.7.0,>=3.6.0->en-core-web-sm==3.6.0) (2.1.1)\n",
      "\u001b[38;5;2m✔ Download and installation successful\u001b[0m\n",
      "You can now load the package via spacy.load('en_core_web_sm')\n"
     ]
    }
   ],
   "source": [
    "!pip install spacy\n",
    "!python -m spacy download en_core_web_sm # language model\n",
    "# for counting entities"
   ]
  },
  {
   "cell_type": "code",
   "execution_count": 3,
   "id": "f5f74204-39c2-4bb0-b94a-84e1e2b9a93e",
   "metadata": {},
   "outputs": [
    {
     "name": "stdout",
     "output_type": "stream",
     "text": [
      "Unnamed: 0                           3\n",
      "model                     DebertaLarge\n",
      "preprocessor    sentence_embedding_cut\n",
      "chunk_size                          64\n",
      "accuracy                      0.550336\n",
      "Name: 9, dtype: object\n"
     ]
    }
   ],
   "source": [
    "best_model = metrics_df.sort_values(by=['accuracy'],  ascending=False).iloc[0]\n",
    "print(best_model)"
   ]
  },
  {
   "cell_type": "code",
   "execution_count": 4,
   "id": "fbfdeb12-1498-4084-9a28-91966cb172fe",
   "metadata": {},
   "outputs": [
    {
     "data": {
      "text/plain": [
       "'64'"
      ]
     },
     "execution_count": 4,
     "metadata": {},
     "output_type": "execute_result"
    }
   ],
   "source": [
    "best_model['chunk_size']"
   ]
  },
  {
   "cell_type": "code",
   "execution_count": 94,
   "id": "aef4fd75-1e5a-472b-b314-786883baad4c",
   "metadata": {},
   "outputs": [
    {
     "name": "stdout",
     "output_type": "stream",
     "text": [
      "             model            preprocessor chunk_size  question_id  \\\n",
      "6258  DebertaLarge  sentence_embedding_cut         64            0   \n",
      "6259  DebertaLarge  sentence_embedding_cut         64            1   \n",
      "6260  DebertaLarge  sentence_embedding_cut         64            2   \n",
      "6261  DebertaLarge  sentence_embedding_cut         64            3   \n",
      "6262  DebertaLarge  sentence_embedding_cut         64            4   \n",
      "...            ...                     ...        ...          ...   \n",
      "8339  DebertaLarge  sentence_embedding_cut         64         2081   \n",
      "8340  DebertaLarge  sentence_embedding_cut         64         2082   \n",
      "8341  DebertaLarge  sentence_embedding_cut         64         2083   \n",
      "8342  DebertaLarge  sentence_embedding_cut         64         2084   \n",
      "8343  DebertaLarge  sentence_embedding_cut         64         2085   \n",
      "\n",
      "                                                logits  prediction  label  \\\n",
      "6258  [-16.930977, -15.536155, -16.912373, -15.539847]           1      1   \n",
      "6259   [-3.7608008, -13.522014, 1.0634339, -13.528275]           2      1   \n",
      "6260   [-14.266091, -7.4051523, -7.856465, -3.9469354]           3      2   \n",
      "6261    [-15.647312, -16.070698, -17.48309, -12.98239]           3      3   \n",
      "6262   [-5.404604, -18.456474, -18.671852, -11.828601]           0      0   \n",
      "...                                                ...         ...    ...   \n",
      "8339   [-10.950401, -0.34622887, -12.300265, 9.499415]           3      3   \n",
      "8340    [1.0838537, -16.748371, -15.254489, 15.622661]           3      3   \n",
      "8341    [-6.420885, -16.962921, -9.344424, -13.803503]           0      1   \n",
      "8342   [-14.7744055, 16.222631, -18.145699, -9.354968]           1      1   \n",
      "8343   [-17.941753, -18.332077, -18.651304, 7.3990865]           3      3   \n",
      "\n",
      "                                 chunk_ids  \n",
      "6258           [9, 15, 27, 32, 45, 75, 79]  \n",
      "6259              [14, 47, 49, 50, 55, 90]  \n",
      "6260                   [9, 15, 18, 47, 50]  \n",
      "6261              [58, 59, 60, 63, 75, 84]  \n",
      "6262      [25, 37, 38, 39, 75, 79, 81, 89]  \n",
      "...                                    ...  \n",
      "8339         [0, 2, 6, 17, 28, 29, 45, 52]  \n",
      "8340         [0, 1, 5, 10, 12, 13, 39, 52]  \n",
      "8341        [0, 7, 14, 39, 41, 48, 50, 51]  \n",
      "8342        [1, 7, 13, 28, 35, 39, 46, 48]  \n",
      "8343  [19, 20, 27, 28, 39, 46, 47, 48, 50]  \n",
      "\n",
      "[2086 rows x 8 columns]\n"
     ]
    }
   ],
   "source": [
    "experiment_df = pd.read_pickle('raw.pkl')\n",
    "\n",
    "# only take experiment data from best model\n",
    "experiment_df = experiment_df[\n",
    "    (experiment_df['model'] == best_model['model']) &\n",
    "    (experiment_df['preprocessor'] == best_model['preprocessor']) &\n",
    "    (experiment_df['chunk_size'].astype(str) == best_model['chunk_size'])\n",
    "]\n",
    "print(experiment_df)"
   ]
  },
  {
   "cell_type": "code",
   "execution_count": 6,
   "id": "16ea050c-7d66-4854-8d3b-8e87711f0caa",
   "metadata": {},
   "outputs": [
    {
     "data": {
      "text/plain": [
       "list"
      ]
     },
     "execution_count": 6,
     "metadata": {},
     "output_type": "execute_result"
    }
   ],
   "source": [
    "# experiment dataframe\n",
    "type(experiment_df.iloc[0]['chunk_ids'])"
   ]
  },
  {
   "cell_type": "code",
   "execution_count": null,
   "id": "9457e9cf-8b42-4018-b6e7-651cc40e7695",
   "metadata": {},
   "outputs": [],
   "source": [
    "# somehow selected_chunk_id is type string. don't do it if's a list already\n",
    "#experiment_df1['selected_chunk_ids'] = experiment_df1['selected_chunk_ids'].apply(lambda x:[int(i) for i in x[1:-1].split(',')])"
   ]
  },
  {
   "cell_type": "code",
   "execution_count": 7,
   "id": "f66e8e33-6703-4c56-8e02-a6cc2c944cc4",
   "metadata": {},
   "outputs": [
    {
     "data": {
      "text/plain": [
       "\"for index, row in experiment_df1.iterrows():\\n    selected_chunk_ids = row['selected_chunk_ids']\\n    print(selected_chunk_ids)\""
      ]
     },
     "execution_count": 7,
     "metadata": {},
     "output_type": "execute_result"
    }
   ],
   "source": [
    "'''for index, row in experiment_df1.iterrows():\n",
    "    selected_chunk_ids = row['selected_chunk_ids']\n",
    "    print(selected_chunk_ids)'''"
   ]
  },
  {
   "cell_type": "code",
   "execution_count": 8,
   "id": "7802d16c-9b19-46f5-ad39-b3673d7970bf",
   "metadata": {},
   "outputs": [],
   "source": [
    "# question data\n",
    "import json\n",
    "import pandas as pd\n",
    "questionlist = []\n",
    "# Open the JSON file\n",
    "with open('datasets/quality/raw/QuALITY.v1.0.1.htmlstripped.dev', 'r') as file:\n",
    "    # Load the JSON data\n",
    "    for line in file:\n",
    "      line = line.strip()\n",
    "\n",
    "      json_obj = json.loads(line)\n",
    "\n",
    "      article = json_obj['article']\n",
    "      article = article.replace(\"\\n\", \"\") # REPLACE LINEBREKAS\n",
    "      \n",
    "      for jquestion in json_obj['questions']:\n",
    "        # getting the relevant properties\n",
    "        row = {'article': article, 'question': jquestion['question'], 'options': jquestion['options'], 'gold_label': jquestion['gold_label']}\n",
    "        questionlist.append(row)\n",
    "\n",
    "# turn it into hugging face dataset\n",
    "question_df = pd.DataFrame(questionlist)"
   ]
  },
  {
   "cell_type": "code",
   "execution_count": null,
   "id": "7242588d-be1b-474d-b084-5739e4163336",
   "metadata": {},
   "outputs": [],
   "source": [
    "# question dataframe\n",
    "question_df"
   ]
  },
  {
   "cell_type": "code",
   "execution_count": 9,
   "id": "37d67b28-5764-4edc-9aff-fca87cab9b57",
   "metadata": {},
   "outputs": [
    {
     "data": {
      "text/html": [
       "<div>\n",
       "<style scoped>\n",
       "    .dataframe tbody tr th:only-of-type {\n",
       "        vertical-align: middle;\n",
       "    }\n",
       "\n",
       "    .dataframe tbody tr th {\n",
       "        vertical-align: top;\n",
       "    }\n",
       "\n",
       "    .dataframe thead th {\n",
       "        text-align: right;\n",
       "    }\n",
       "</style>\n",
       "<table border=\"1\" class=\"dataframe\">\n",
       "  <thead>\n",
       "    <tr style=\"text-align: right;\">\n",
       "      <th></th>\n",
       "      <th>question_id</th>\n",
       "      <th>article</th>\n",
       "      <th>question</th>\n",
       "      <th>options</th>\n",
       "      <th>prediction</th>\n",
       "      <th>label</th>\n",
       "      <th>chunk_ids</th>\n",
       "      <th>logits</th>\n",
       "    </tr>\n",
       "  </thead>\n",
       "  <tbody>\n",
       "    <tr>\n",
       "      <th>6258</th>\n",
       "      <td>0</td>\n",
       "      <td>THE GIRL IN HIS MINDBy ROBERT F. YOUNG [Transc...</td>\n",
       "      <td>How much time has passed between Blake's night...</td>\n",
       "      <td>[7 years, 10 hours, 12 years, 1 hour]</td>\n",
       "      <td>1</td>\n",
       "      <td>1</td>\n",
       "      <td>[9, 15, 27, 32, 45, 75, 79]</td>\n",
       "      <td>[-16.930977, -15.536155, -16.912373, -15.539847]</td>\n",
       "    </tr>\n",
       "    <tr>\n",
       "      <th>6259</th>\n",
       "      <td>1</td>\n",
       "      <td>THE GIRL IN HIS MINDBy ROBERT F. YOUNG [Transc...</td>\n",
       "      <td>Why does Deirdre get so upset when Blake Past ...</td>\n",
       "      <td>[Because Blake is trying to guilt Deirdre into...</td>\n",
       "      <td>2</td>\n",
       "      <td>1</td>\n",
       "      <td>[14, 47, 49, 50, 55, 90]</td>\n",
       "      <td>[-3.7608008, -13.522014, 1.0634339, -13.528275]</td>\n",
       "    </tr>\n",
       "    <tr>\n",
       "      <th>6260</th>\n",
       "      <td>2</td>\n",
       "      <td>THE GIRL IN HIS MINDBy ROBERT F. YOUNG [Transc...</td>\n",
       "      <td>Why does shame flame in Blake's cheeks when De...</td>\n",
       "      <td>[He is embarrassed at the thought that Deirdre...</td>\n",
       "      <td>3</td>\n",
       "      <td>2</td>\n",
       "      <td>[9, 15, 18, 47, 50]</td>\n",
       "      <td>[-14.266091, -7.4051523, -7.856465, -3.9469354]</td>\n",
       "    </tr>\n",
       "    <tr>\n",
       "      <th>6261</th>\n",
       "      <td>3</td>\n",
       "      <td>THE GIRL IN HIS MINDBy ROBERT F. YOUNG [Transc...</td>\n",
       "      <td>Why did Blake create the three female super-im...</td>\n",
       "      <td>[He feels guilty about having slept with Eldor...</td>\n",
       "      <td>3</td>\n",
       "      <td>3</td>\n",
       "      <td>[58, 59, 60, 63, 75, 84]</td>\n",
       "      <td>[-15.647312, -16.070698, -17.48309, -12.98239]</td>\n",
       "    </tr>\n",
       "    <tr>\n",
       "      <th>6262</th>\n",
       "      <td>4</td>\n",
       "      <td>THE GIRL IN HIS MINDBy ROBERT F. YOUNG [Transc...</td>\n",
       "      <td>Sabrina York is</td>\n",
       "      <td>[a criminal that Blake is hunting, a psycheye ...</td>\n",
       "      <td>0</td>\n",
       "      <td>0</td>\n",
       "      <td>[25, 37, 38, 39, 75, 79, 81, 89]</td>\n",
       "      <td>[-5.404604, -18.456474, -18.671852, -11.828601]</td>\n",
       "    </tr>\n",
       "  </tbody>\n",
       "</table>\n",
       "</div>"
      ],
      "text/plain": [
       "      question_id                                            article  \\\n",
       "6258            0  THE GIRL IN HIS MINDBy ROBERT F. YOUNG [Transc...   \n",
       "6259            1  THE GIRL IN HIS MINDBy ROBERT F. YOUNG [Transc...   \n",
       "6260            2  THE GIRL IN HIS MINDBy ROBERT F. YOUNG [Transc...   \n",
       "6261            3  THE GIRL IN HIS MINDBy ROBERT F. YOUNG [Transc...   \n",
       "6262            4  THE GIRL IN HIS MINDBy ROBERT F. YOUNG [Transc...   \n",
       "\n",
       "                                               question  \\\n",
       "6258  How much time has passed between Blake's night...   \n",
       "6259  Why does Deirdre get so upset when Blake Past ...   \n",
       "6260  Why does shame flame in Blake's cheeks when De...   \n",
       "6261  Why did Blake create the three female super-im...   \n",
       "6262                                   Sabrina York is    \n",
       "\n",
       "                                                options  prediction  label  \\\n",
       "6258              [7 years, 10 hours, 12 years, 1 hour]           1      1   \n",
       "6259  [Because Blake is trying to guilt Deirdre into...           2      1   \n",
       "6260  [He is embarrassed at the thought that Deirdre...           3      2   \n",
       "6261  [He feels guilty about having slept with Eldor...           3      3   \n",
       "6262  [a criminal that Blake is hunting, a psycheye ...           0      0   \n",
       "\n",
       "                             chunk_ids  \\\n",
       "6258       [9, 15, 27, 32, 45, 75, 79]   \n",
       "6259          [14, 47, 49, 50, 55, 90]   \n",
       "6260               [9, 15, 18, 47, 50]   \n",
       "6261          [58, 59, 60, 63, 75, 84]   \n",
       "6262  [25, 37, 38, 39, 75, 79, 81, 89]   \n",
       "\n",
       "                                                logits  \n",
       "6258  [-16.930977, -15.536155, -16.912373, -15.539847]  \n",
       "6259   [-3.7608008, -13.522014, 1.0634339, -13.528275]  \n",
       "6260   [-14.266091, -7.4051523, -7.856465, -3.9469354]  \n",
       "6261    [-15.647312, -16.070698, -17.48309, -12.98239]  \n",
       "6262   [-5.404604, -18.456474, -18.671852, -11.828601]  "
      ]
     },
     "execution_count": 9,
     "metadata": {},
     "output_type": "execute_result"
    }
   ],
   "source": [
    "merged_df = pd.merge(question_df, experiment_df, left_index=True,  right_on='question_id')\n",
    "\n",
    "# Keep only specific columns\n",
    "desired_columns = ['question_id', 'article', 'question', 'options', 'prediction', 'label', 'chunk_ids', 'logits']\n",
    "\n",
    "merged_df  = merged_df[desired_columns]\n",
    "merged_df.iloc[:5]"
   ]
  },
  {
   "cell_type": "code",
   "execution_count": null,
   "id": "6afd75a8-29f9-446a-bad9-dd7da97c18ff",
   "metadata": {},
   "outputs": [],
   "source": []
  },
  {
   "cell_type": "code",
   "execution_count": null,
   "id": "5f41b512-4b64-424c-9d1e-d5d845373ecb",
   "metadata": {},
   "outputs": [],
   "source": []
  },
  {
   "cell_type": "markdown",
   "id": "ea7220fa-dc14-4587-a2cd-4f5cb8c5a982",
   "metadata": {},
   "source": [
    "# 1. Finding out which type of questions are harder to predict (How/What/Who questions?)"
   ]
  },
  {
   "cell_type": "code",
   "execution_count": 10,
   "id": "cbc93a30-7a15-4202-b7e5-bbb105d672bb",
   "metadata": {},
   "outputs": [],
   "source": [
    "def filterByQuestionType(df, question_type):\n",
    "    return df[df['question'].str.lower().str.split().str[0] == question_type]"
   ]
  },
  {
   "cell_type": "code",
   "execution_count": 11,
   "id": "ea78db64-9de6-4f03-88cb-2b30b84bf90e",
   "metadata": {},
   "outputs": [
    {
     "name": "stdout",
     "output_type": "stream",
     "text": [
      "total: 2086\n",
      "what: total=809, correct=0.533\n",
      "why: total=516, correct=0.578\n",
      "how: total=332, correct=0.557\n",
      "which: total=93, correct=0.527\n",
      "who: total=58, correct=0.431\n",
      "the: total=35, correct=0.629\n",
      "of: total=34, correct=0.412\n",
      "where: total=33, correct=0.515\n",
      "according: total=22, correct=0.864\n",
      "when: total=17, correct=0.353\n",
      "in: total=13, correct=0.538\n",
      "does: total=12, correct=0.750\n",
      "if: total=9, correct=0.333\n",
      "is: total=8, correct=0.375\n",
      "did: total=6, correct=0.500\n"
     ]
    }
   ],
   "source": [
    "question_types = merged_df['question'].str.lower().str.split().str[0].unique()\n",
    "#question_types = ['why']\n",
    "\n",
    "question_tuples = []\n",
    "print(f'total: { question_df.shape[0]}')\n",
    "for question_type in question_types:\n",
    "    filtered_df = filterByQuestionType(merged_df, question_type)\n",
    "    total_cnt = filtered_df.shape[0]\n",
    "    \n",
    "    correct_cnt = len(filtered_df[filtered_df['label'] == filtered_df['prediction']])\n",
    "    \n",
    "    row = (question_type, total_cnt, correct_cnt)\n",
    "    question_tuples.append(row)\n",
    "    #print(row)\n",
    "    \n",
    "\n",
    "question_tuples = sorted(question_tuples, key=lambda x: x[1], reverse=True) # sort by total count\n",
    "\n",
    "# only keep question types with tuples count larger than 10\n",
    "thres = 5\n",
    "question_tuples = list(filter(lambda x: x[1] > thres, question_tuples))\n",
    "for (question_type, total_cnt, correct_cnt) in question_tuples:\n",
    "    print(f'{question_type}: total={total_cnt}, correct={correct_cnt/total_cnt:.3f}')"
   ]
  },
  {
   "cell_type": "markdown",
   "id": "c78e230e-cd82-47ad-b174-9fe41221bcd8",
   "metadata": {},
   "source": [
    "Conclusion: Look at which type of questions have lower percentage of correct answers."
   ]
  },
  {
   "cell_type": "markdown",
   "id": "18ffc672-64fb-4ec2-8087-5c3c2335a947",
   "metadata": {},
   "source": [
    "# 2. Count number of number of entities as a source of information (Does more entity help to answer the question?) (TODO)"
   ]
  },
  {
   "cell_type": "code",
   "execution_count": 24,
   "id": "ccb286bf-aa40-4fd2-a0df-1326c50ce38c",
   "metadata": {},
   "outputs": [],
   "source": [
    "from baseline_retrieval import split_text_into_chunks "
   ]
  },
  {
   "cell_type": "code",
   "execution_count": 95,
   "id": "699be022-7b48-4a5e-85fd-e31fb7b37b27",
   "metadata": {},
   "outputs": [
    {
     "name": "stdout",
     "output_type": "stream",
     "text": [
      "<class 'int'>\n"
     ]
    }
   ],
   "source": [
    "# split text in chunks, add to dataframe\n",
    "import numpy as np\n",
    "max_token_size = -1\n",
    "try:\n",
    "    max_token_size = int(best_model['chunk_size'])\n",
    "except ValueError:\n",
    "    # then it's a string and we keep it this way\n",
    "    max_token_size = best_model['chunk_size']\n",
    "print(type(max_token_size))\n",
    "merged_df['chunks'] = merged_df['article'].apply(split_text_into_chunks, max_token_size=max_token_size)"
   ]
  },
  {
   "cell_type": "code",
   "execution_count": 96,
   "id": "39e048f4-a87e-4cb2-ac0c-01b133ec80ee",
   "metadata": {},
   "outputs": [],
   "source": [
    "# save for all chunk_id in chunk_ids the exact chunk as text, in an array\n",
    "for index, row in merged_df.iterrows():\n",
    "    #print(type(row['chunks']))\n",
    "    # merge text together \n",
    "    input_text =  \"\".join([row['chunks'][i] for i in row['chunk_ids']])\n",
    "    #print(input_text)\n",
    "    merged_df.loc[index, 'input'] = input_text\n",
    "    #"
   ]
  },
  {
   "cell_type": "code",
   "execution_count": 99,
   "id": "f4c6c030-3f3f-4afb-8dcb-ee602dba5c50",
   "metadata": {},
   "outputs": [],
   "source": [
    "merged_df.to_csv(\"human_analysis.csv\", index=False)"
   ]
  },
  {
   "cell_type": "code",
   "execution_count": 28,
   "id": "112a35ce-f3a7-419c-a290-87c8ed69a3d9",
   "metadata": {},
   "outputs": [
    {
     "name": "stdout",
     "output_type": "stream",
     "text": [
      "3\n",
      "(Apple, U.K., $1 billion)\n"
     ]
    }
   ],
   "source": [
    "import spacy\n",
    "spacy.prefer_gpu()\n",
    "nlp = spacy.load(\"en_core_web_sm\")\n",
    "doc = nlp(\"Apple is looking at buying U.K. startup for $1 billion\")\n",
    "print(len(doc.ents))\n",
    "print(doc.ents)"
   ]
  },
  {
   "cell_type": "code",
   "execution_count": 29,
   "id": "50384716-96ef-4d60-9b8c-63a96281a3ec",
   "metadata": {},
   "outputs": [],
   "source": [
    "# this takes a while since we need to perform NER for each row (approx. 5min)\n",
    "for index, row in merged_df.iterrows():\n",
    "    #print(type(row['chunks']))\n",
    "    # merge text together \n",
    "    doc = nlp(row['input'])\n",
    "    nb_entities = len(doc.ents)\n",
    "    #print(input_text)\n",
    "    merged_df.loc[index, 'nb_entities'] = nb_entities"
   ]
  },
  {
   "cell_type": "code",
   "execution_count": null,
   "id": "100e8e60-62f4-44bc-9cad-c30689074b40",
   "metadata": {},
   "outputs": [],
   "source": [
    "merged_df"
   ]
  },
  {
   "cell_type": "code",
   "execution_count": null,
   "id": "065de112-d5f1-43e9-a530-dca5f3e927b2",
   "metadata": {},
   "outputs": [],
   "source": [
    "correct_preds = merged_df[merged_df['prediction'] == merged_df['label']]\n",
    "col = correct_preds['nb_entities']\n",
    "mean = col.mean()\n",
    "var = col.var()\n",
    "med = col.median()\n",
    "\n",
    "print(f'Correctly classified samples: mean={mean:.4f}, var={var:.4f}, , median={med} ')"
   ]
  },
  {
   "cell_type": "code",
   "execution_count": null,
   "id": "3f9adab6-e343-4f52-a01c-9b014fc4d692",
   "metadata": {},
   "outputs": [],
   "source": [
    "correct_preds = merged_df[merged_df['prediction'] != merged_df['label']]\n",
    "col = correct_preds['nb_entities']\n",
    "mean = col.mean()\n",
    "var = col.var()\n",
    "med = col.median()\n",
    "\n",
    "print(f'Falsely classified samples: mean={mean:.4f}, var={var:.4f}, , median={med} ')"
   ]
  },
  {
   "cell_type": "markdown",
   "id": "76bbbd35-87ab-4c33-aff8-53fdc3d58022",
   "metadata": {},
   "source": [
    "# 3. Analyze the similarity of the selected chunks and see if there is a difference for falsely predicted and correctly predicted questions  (Does the model get feeded with redundant information?)"
   ]
  },
  {
   "cell_type": "markdown",
   "id": "719c8792-5ab4-47f8-bcb4-b77af31d53b8",
   "metadata": {},
   "source": [
    "# 6. Analyze if similarity score is a good measurement (If the model gets feeded with chunks with high similarity score, is it more accurate at predicting?)"
   ]
  },
  {
   "cell_type": "code",
   "execution_count": 17,
   "id": "9aa5d3ce-a69d-4754-8ea7-b817f99f4ad5",
   "metadata": {},
   "outputs": [],
   "source": [
    "from sentence_transformers import SentenceTransformer, util"
   ]
  },
  {
   "cell_type": "code",
   "execution_count": 18,
   "id": "043037c7-160c-413f-af8f-52695ea49a0f",
   "metadata": {},
   "outputs": [],
   "source": [
    "sentembb_model = SentenceTransformer('all-mpnet-base-v2',  device='cuda')"
   ]
  },
  {
   "cell_type": "code",
   "execution_count": 34,
   "id": "97c91aee-1bf3-4047-94ee-8db01170d95c",
   "metadata": {},
   "outputs": [
    {
     "data": {
      "text/plain": [
       "question_id      int64\n",
       "article         object\n",
       "question        object\n",
       "options         object\n",
       "prediction       int64\n",
       "label            int64\n",
       "chunk_ids       object\n",
       "logits          object\n",
       "chunks          object\n",
       "input           object\n",
       "nb_entities    float64\n",
       "dtype: object"
      ]
     },
     "execution_count": 34,
     "metadata": {},
     "output_type": "execute_result"
    }
   ],
   "source": [
    "merged_df6 = merged_df.copy()\n",
    "merged_df6.dtypes"
   ]
  },
  {
   "cell_type": "code",
   "execution_count": 35,
   "id": "f9f13a2c-d7a5-49e2-916e-9af1a2f20e25",
   "metadata": {},
   "outputs": [],
   "source": [
    "merged_df6[\"similarity_scores\"] = [[]] * merged_df6.shape[0] # create empty col\n",
    "merged_df6[\"selected_chunks\"] = [[]] * merged_df6.shape[0] # create empty col"
   ]
  },
  {
   "cell_type": "code",
   "execution_count": 38,
   "id": "d3b1f31a-f282-48f2-b46d-a5609fad86bf",
   "metadata": {},
   "outputs": [],
   "source": [
    "for index, row in merged_df6.iterrows():\n",
    "    merged_df6.at[index, 'selected_chunks'] = [row['chunks'][i] for i in row['chunk_ids']]"
   ]
  },
  {
   "cell_type": "code",
   "execution_count": null,
   "id": "cba27bcb-7a0a-4da0-9381-0e8fecb8da8f",
   "metadata": {},
   "outputs": [],
   "source": []
  },
  {
   "cell_type": "code",
   "execution_count": 40,
   "id": "2b4d642d-5183-427d-b008-1191f54f15dd",
   "metadata": {},
   "outputs": [],
   "source": [
    "# takes like 5min to run, as we use the sentence transformer\n",
    "for index, row in merged_df6.iterrows():\n",
    "    #print(type(row['chunks']))\n",
    "    query = row['question']\n",
    "    corpus = row['selected_chunks']\n",
    "    query_embedding = sentembb_model.encode(query)\n",
    "    corpus_embeddings = sentembb_model.encode(corpus)\n",
    "    similarity_scores = util.cos_sim(query_embedding, corpus_embeddings)[0]\n",
    "    similarity_scores = list(similarity_scores.numpy())\n",
    "\n",
    "    merged_df6.at[index, 'similarity_scores'] = similarity_scores"
   ]
  },
  {
   "cell_type": "code",
   "execution_count": 41,
   "id": "0f71d840-d752-4de8-90f2-10048fa2d6b9",
   "metadata": {},
   "outputs": [
    {
     "data": {
      "text/html": [
       "<div>\n",
       "<style scoped>\n",
       "    .dataframe tbody tr th:only-of-type {\n",
       "        vertical-align: middle;\n",
       "    }\n",
       "\n",
       "    .dataframe tbody tr th {\n",
       "        vertical-align: top;\n",
       "    }\n",
       "\n",
       "    .dataframe thead th {\n",
       "        text-align: right;\n",
       "    }\n",
       "</style>\n",
       "<table border=\"1\" class=\"dataframe\">\n",
       "  <thead>\n",
       "    <tr style=\"text-align: right;\">\n",
       "      <th></th>\n",
       "      <th>question_id</th>\n",
       "      <th>article</th>\n",
       "      <th>question</th>\n",
       "      <th>options</th>\n",
       "      <th>prediction</th>\n",
       "      <th>label</th>\n",
       "      <th>chunk_ids</th>\n",
       "      <th>logits</th>\n",
       "      <th>chunks</th>\n",
       "      <th>input</th>\n",
       "      <th>nb_entities</th>\n",
       "      <th>similarity_scores</th>\n",
       "      <th>selected_chunks</th>\n",
       "    </tr>\n",
       "  </thead>\n",
       "  <tbody>\n",
       "    <tr>\n",
       "      <th>6258</th>\n",
       "      <td>0</td>\n",
       "      <td>THE GIRL IN HIS MINDBy ROBERT F. YOUNG [Transc...</td>\n",
       "      <td>How much time has passed between Blake's night...</td>\n",
       "      <td>[7 years, 10 hours, 12 years, 1 hour]</td>\n",
       "      <td>1</td>\n",
       "      <td>1</td>\n",
       "      <td>[9, 15, 27, 32, 45, 75, 79]</td>\n",
       "      <td>[-16.930977, -15.536155, -16.912373, -15.539847]</td>\n",
       "      <td>[THE GIRL IN HIS MINDBy ROBERT F. YOUNG [Trans...</td>\n",
       "      <td>Her hair made him think of the copper-colored ...</td>\n",
       "      <td>19.0</td>\n",
       "      <td>[0.47554004, 0.4049722, 0.47980657, 0.4519455,...</td>\n",
       "      <td>[Her hair made him think of the copper-colored...</td>\n",
       "    </tr>\n",
       "    <tr>\n",
       "      <th>6259</th>\n",
       "      <td>1</td>\n",
       "      <td>THE GIRL IN HIS MINDBy ROBERT F. YOUNG [Transc...</td>\n",
       "      <td>Why does Deirdre get so upset when Blake Past ...</td>\n",
       "      <td>[Because Blake is trying to guilt Deirdre into...</td>\n",
       "      <td>2</td>\n",
       "      <td>1</td>\n",
       "      <td>[14, 47, 49, 50, 55, 90]</td>\n",
       "      <td>[-3.7608008, -13.522014, 1.0634339, -13.528275]</td>\n",
       "      <td>[THE GIRL IN HIS MINDBy ROBERT F. YOUNG [Trans...</td>\n",
       "      <td>When I grow up I shall be a most well-educated...</td>\n",
       "      <td>15.0</td>\n",
       "      <td>[0.45747864, 0.5369153, 0.62816, 0.5888226, 0....</td>\n",
       "      <td>[When I grow up I shall be a most well-educate...</td>\n",
       "    </tr>\n",
       "    <tr>\n",
       "      <th>6260</th>\n",
       "      <td>2</td>\n",
       "      <td>THE GIRL IN HIS MINDBy ROBERT F. YOUNG [Transc...</td>\n",
       "      <td>Why does shame flame in Blake's cheeks when De...</td>\n",
       "      <td>[He is embarrassed at the thought that Deirdre...</td>\n",
       "      <td>3</td>\n",
       "      <td>2</td>\n",
       "      <td>[9, 15, 18, 47, 50]</td>\n",
       "      <td>[-14.266091, -7.4051523, -7.856465, -3.9469354]</td>\n",
       "      <td>[THE GIRL IN HIS MINDBy ROBERT F. YOUNG [Trans...</td>\n",
       "      <td>Her hair made him think of the copper-colored ...</td>\n",
       "      <td>13.0</td>\n",
       "      <td>[0.42422178, 0.6323849, 0.4809482, 0.46296155,...</td>\n",
       "      <td>[Her hair made him think of the copper-colored...</td>\n",
       "    </tr>\n",
       "    <tr>\n",
       "      <th>6261</th>\n",
       "      <td>3</td>\n",
       "      <td>THE GIRL IN HIS MINDBy ROBERT F. YOUNG [Transc...</td>\n",
       "      <td>Why did Blake create the three female super-im...</td>\n",
       "      <td>[He feels guilty about having slept with Eldor...</td>\n",
       "      <td>3</td>\n",
       "      <td>3</td>\n",
       "      <td>[58, 59, 60, 63, 75, 84]</td>\n",
       "      <td>[-15.647312, -16.070698, -17.48309, -12.98239]</td>\n",
       "      <td>[THE GIRL IN HIS MINDBy ROBERT F. YOUNG [Trans...</td>\n",
       "      <td>His next reaction was shock. His third was fea...</td>\n",
       "      <td>24.0</td>\n",
       "      <td>[0.44008404, 0.5379476, 0.39775902, 0.5061847,...</td>\n",
       "      <td>[His next reaction was shock. His third was fe...</td>\n",
       "    </tr>\n",
       "    <tr>\n",
       "      <th>6262</th>\n",
       "      <td>4</td>\n",
       "      <td>THE GIRL IN HIS MINDBy ROBERT F. YOUNG [Transc...</td>\n",
       "      <td>Sabrina York is</td>\n",
       "      <td>[a criminal that Blake is hunting, a psycheye ...</td>\n",
       "      <td>0</td>\n",
       "      <td>0</td>\n",
       "      <td>[25, 37, 38, 39, 75, 79, 81, 89]</td>\n",
       "      <td>[-5.404604, -18.456474, -18.671852, -11.828601]</td>\n",
       "      <td>[THE GIRL IN HIS MINDBy ROBERT F. YOUNG [Trans...</td>\n",
       "      <td>After resting for a few minutes, he descended ...</td>\n",
       "      <td>17.0</td>\n",
       "      <td>[0.26478145, 0.29234934, 0.32791167, 0.3295804...</td>\n",
       "      <td>[After resting for a few minutes, he descended...</td>\n",
       "    </tr>\n",
       "    <tr>\n",
       "      <th>...</th>\n",
       "      <td>...</td>\n",
       "      <td>...</td>\n",
       "      <td>...</td>\n",
       "      <td>...</td>\n",
       "      <td>...</td>\n",
       "      <td>...</td>\n",
       "      <td>...</td>\n",
       "      <td>...</td>\n",
       "      <td>...</td>\n",
       "      <td>...</td>\n",
       "      <td>...</td>\n",
       "      <td>...</td>\n",
       "      <td>...</td>\n",
       "    </tr>\n",
       "    <tr>\n",
       "      <th>8339</th>\n",
       "      <td>2081</td>\n",
       "      <td>The end of the webIn the past year, as we have...</td>\n",
       "      <td>The author of this piece</td>\n",
       "      <td>[has radical ideas concerning how the internet...</td>\n",
       "      <td>3</td>\n",
       "      <td>3</td>\n",
       "      <td>[0, 2, 6, 17, 28, 29, 45, 52]</td>\n",
       "      <td>[-10.950401, -0.34622887, -12.300265, 9.499415]</td>\n",
       "      <td>[The end of the webIn the past year, as we hav...</td>\n",
       "      <td>The end of the webIn the past year, as we have...</td>\n",
       "      <td>23.0</td>\n",
       "      <td>[0.14489397, 0.102745034, 0.13917679, 0.041752...</td>\n",
       "      <td>[The end of the webIn the past year, as we hav...</td>\n",
       "    </tr>\n",
       "    <tr>\n",
       "      <th>8340</th>\n",
       "      <td>2082</td>\n",
       "      <td>The end of the webIn the past year, as we have...</td>\n",
       "      <td>The author is afraid</td>\n",
       "      <td>[that the dark web is going to cause long-last...</td>\n",
       "      <td>3</td>\n",
       "      <td>3</td>\n",
       "      <td>[0, 1, 5, 10, 12, 13, 39, 52]</td>\n",
       "      <td>[1.0838537, -16.748371, -15.254489, 15.622661]</td>\n",
       "      <td>[The end of the webIn the past year, as we hav...</td>\n",
       "      <td>The end of the webIn the past year, as we have...</td>\n",
       "      <td>5.0</td>\n",
       "      <td>[0.1390476, 0.08614773, 0.1126381, 0.20156893,...</td>\n",
       "      <td>[The end of the webIn the past year, as we hav...</td>\n",
       "    </tr>\n",
       "    <tr>\n",
       "      <th>8341</th>\n",
       "      <td>2083</td>\n",
       "      <td>The end of the webIn the past year, as we have...</td>\n",
       "      <td>What is ironic about the internet?</td>\n",
       "      <td>[It was never meant to be such a huge part of ...</td>\n",
       "      <td>0</td>\n",
       "      <td>1</td>\n",
       "      <td>[0, 7, 14, 39, 41, 48, 50, 51]</td>\n",
       "      <td>[-6.420885, -16.962921, -9.344424, -13.803503]</td>\n",
       "      <td>[The end of the webIn the past year, as we hav...</td>\n",
       "      <td>The end of the webIn the past year, as we have...</td>\n",
       "      <td>12.0</td>\n",
       "      <td>[0.52718043, 0.4353493, 0.37586582, 0.4800317,...</td>\n",
       "      <td>[The end of the webIn the past year, as we hav...</td>\n",
       "    </tr>\n",
       "    <tr>\n",
       "      <th>8342</th>\n",
       "      <td>2084</td>\n",
       "      <td>The end of the webIn the past year, as we have...</td>\n",
       "      <td>One way the internet is damaging society is</td>\n",
       "      <td>[by allowing social media to overtake the live...</td>\n",
       "      <td>1</td>\n",
       "      <td>1</td>\n",
       "      <td>[1, 7, 13, 28, 35, 39, 46, 48]</td>\n",
       "      <td>[-14.7744055, 16.222631, -18.145699, -9.354968]</td>\n",
       "      <td>[The end of the webIn the past year, as we hav...</td>\n",
       "      <td>With domestic and geopolitical tensions risin...</td>\n",
       "      <td>8.0</td>\n",
       "      <td>[0.48181635, 0.5411798, 0.5621747, 0.4833579, ...</td>\n",
       "      <td>[ With domestic and geopolitical tensions risi...</td>\n",
       "    </tr>\n",
       "    <tr>\n",
       "      <th>8343</th>\n",
       "      <td>2085</td>\n",
       "      <td>The end of the webIn the past year, as we have...</td>\n",
       "      <td>According to the author, who should govern the...</td>\n",
       "      <td>[The \"Big Four\", Individual governments., The ...</td>\n",
       "      <td>3</td>\n",
       "      <td>3</td>\n",
       "      <td>[19, 20, 27, 28, 39, 46, 47, 48, 50]</td>\n",
       "      <td>[-17.941753, -18.332077, -18.651304, 7.3990865]</td>\n",
       "      <td>[The end of the webIn the past year, as we hav...</td>\n",
       "      <td>With various nations eyeing each other suspi...</td>\n",
       "      <td>7.0</td>\n",
       "      <td>[0.67690396, 0.76895034, 0.64851063, 0.5833550...</td>\n",
       "      <td>[  With various nations eyeing each other susp...</td>\n",
       "    </tr>\n",
       "  </tbody>\n",
       "</table>\n",
       "<p>2086 rows × 13 columns</p>\n",
       "</div>"
      ],
      "text/plain": [
       "      question_id                                            article  \\\n",
       "6258            0  THE GIRL IN HIS MINDBy ROBERT F. YOUNG [Transc...   \n",
       "6259            1  THE GIRL IN HIS MINDBy ROBERT F. YOUNG [Transc...   \n",
       "6260            2  THE GIRL IN HIS MINDBy ROBERT F. YOUNG [Transc...   \n",
       "6261            3  THE GIRL IN HIS MINDBy ROBERT F. YOUNG [Transc...   \n",
       "6262            4  THE GIRL IN HIS MINDBy ROBERT F. YOUNG [Transc...   \n",
       "...           ...                                                ...   \n",
       "8339         2081  The end of the webIn the past year, as we have...   \n",
       "8340         2082  The end of the webIn the past year, as we have...   \n",
       "8341         2083  The end of the webIn the past year, as we have...   \n",
       "8342         2084  The end of the webIn the past year, as we have...   \n",
       "8343         2085  The end of the webIn the past year, as we have...   \n",
       "\n",
       "                                               question  \\\n",
       "6258  How much time has passed between Blake's night...   \n",
       "6259  Why does Deirdre get so upset when Blake Past ...   \n",
       "6260  Why does shame flame in Blake's cheeks when De...   \n",
       "6261  Why did Blake create the three female super-im...   \n",
       "6262                                   Sabrina York is    \n",
       "...                                                 ...   \n",
       "8339                           The author of this piece   \n",
       "8340                               The author is afraid   \n",
       "8341                 What is ironic about the internet?   \n",
       "8342        One way the internet is damaging society is   \n",
       "8343  According to the author, who should govern the...   \n",
       "\n",
       "                                                options  prediction  label  \\\n",
       "6258              [7 years, 10 hours, 12 years, 1 hour]           1      1   \n",
       "6259  [Because Blake is trying to guilt Deirdre into...           2      1   \n",
       "6260  [He is embarrassed at the thought that Deirdre...           3      2   \n",
       "6261  [He feels guilty about having slept with Eldor...           3      3   \n",
       "6262  [a criminal that Blake is hunting, a psycheye ...           0      0   \n",
       "...                                                 ...         ...    ...   \n",
       "8339  [has radical ideas concerning how the internet...           3      3   \n",
       "8340  [that the dark web is going to cause long-last...           3      3   \n",
       "8341  [It was never meant to be such a huge part of ...           0      1   \n",
       "8342  [by allowing social media to overtake the live...           1      1   \n",
       "8343  [The \"Big Four\", Individual governments., The ...           3      3   \n",
       "\n",
       "                                 chunk_ids  \\\n",
       "6258           [9, 15, 27, 32, 45, 75, 79]   \n",
       "6259              [14, 47, 49, 50, 55, 90]   \n",
       "6260                   [9, 15, 18, 47, 50]   \n",
       "6261              [58, 59, 60, 63, 75, 84]   \n",
       "6262      [25, 37, 38, 39, 75, 79, 81, 89]   \n",
       "...                                    ...   \n",
       "8339         [0, 2, 6, 17, 28, 29, 45, 52]   \n",
       "8340         [0, 1, 5, 10, 12, 13, 39, 52]   \n",
       "8341        [0, 7, 14, 39, 41, 48, 50, 51]   \n",
       "8342        [1, 7, 13, 28, 35, 39, 46, 48]   \n",
       "8343  [19, 20, 27, 28, 39, 46, 47, 48, 50]   \n",
       "\n",
       "                                                logits  \\\n",
       "6258  [-16.930977, -15.536155, -16.912373, -15.539847]   \n",
       "6259   [-3.7608008, -13.522014, 1.0634339, -13.528275]   \n",
       "6260   [-14.266091, -7.4051523, -7.856465, -3.9469354]   \n",
       "6261    [-15.647312, -16.070698, -17.48309, -12.98239]   \n",
       "6262   [-5.404604, -18.456474, -18.671852, -11.828601]   \n",
       "...                                                ...   \n",
       "8339   [-10.950401, -0.34622887, -12.300265, 9.499415]   \n",
       "8340    [1.0838537, -16.748371, -15.254489, 15.622661]   \n",
       "8341    [-6.420885, -16.962921, -9.344424, -13.803503]   \n",
       "8342   [-14.7744055, 16.222631, -18.145699, -9.354968]   \n",
       "8343   [-17.941753, -18.332077, -18.651304, 7.3990865]   \n",
       "\n",
       "                                                 chunks  \\\n",
       "6258  [THE GIRL IN HIS MINDBy ROBERT F. YOUNG [Trans...   \n",
       "6259  [THE GIRL IN HIS MINDBy ROBERT F. YOUNG [Trans...   \n",
       "6260  [THE GIRL IN HIS MINDBy ROBERT F. YOUNG [Trans...   \n",
       "6261  [THE GIRL IN HIS MINDBy ROBERT F. YOUNG [Trans...   \n",
       "6262  [THE GIRL IN HIS MINDBy ROBERT F. YOUNG [Trans...   \n",
       "...                                                 ...   \n",
       "8339  [The end of the webIn the past year, as we hav...   \n",
       "8340  [The end of the webIn the past year, as we hav...   \n",
       "8341  [The end of the webIn the past year, as we hav...   \n",
       "8342  [The end of the webIn the past year, as we hav...   \n",
       "8343  [The end of the webIn the past year, as we hav...   \n",
       "\n",
       "                                                  input  nb_entities  \\\n",
       "6258  Her hair made him think of the copper-colored ...         19.0   \n",
       "6259  When I grow up I shall be a most well-educated...         15.0   \n",
       "6260  Her hair made him think of the copper-colored ...         13.0   \n",
       "6261  His next reaction was shock. His third was fea...         24.0   \n",
       "6262  After resting for a few minutes, he descended ...         17.0   \n",
       "...                                                 ...          ...   \n",
       "8339  The end of the webIn the past year, as we have...         23.0   \n",
       "8340  The end of the webIn the past year, as we have...          5.0   \n",
       "8341  The end of the webIn the past year, as we have...         12.0   \n",
       "8342   With domestic and geopolitical tensions risin...          8.0   \n",
       "8343    With various nations eyeing each other suspi...          7.0   \n",
       "\n",
       "                                      similarity_scores  \\\n",
       "6258  [0.47554004, 0.4049722, 0.47980657, 0.4519455,...   \n",
       "6259  [0.45747864, 0.5369153, 0.62816, 0.5888226, 0....   \n",
       "6260  [0.42422178, 0.6323849, 0.4809482, 0.46296155,...   \n",
       "6261  [0.44008404, 0.5379476, 0.39775902, 0.5061847,...   \n",
       "6262  [0.26478145, 0.29234934, 0.32791167, 0.3295804...   \n",
       "...                                                 ...   \n",
       "8339  [0.14489397, 0.102745034, 0.13917679, 0.041752...   \n",
       "8340  [0.1390476, 0.08614773, 0.1126381, 0.20156893,...   \n",
       "8341  [0.52718043, 0.4353493, 0.37586582, 0.4800317,...   \n",
       "8342  [0.48181635, 0.5411798, 0.5621747, 0.4833579, ...   \n",
       "8343  [0.67690396, 0.76895034, 0.64851063, 0.5833550...   \n",
       "\n",
       "                                        selected_chunks  \n",
       "6258  [Her hair made him think of the copper-colored...  \n",
       "6259  [When I grow up I shall be a most well-educate...  \n",
       "6260  [Her hair made him think of the copper-colored...  \n",
       "6261  [His next reaction was shock. His third was fe...  \n",
       "6262  [After resting for a few minutes, he descended...  \n",
       "...                                                 ...  \n",
       "8339  [The end of the webIn the past year, as we hav...  \n",
       "8340  [The end of the webIn the past year, as we hav...  \n",
       "8341  [The end of the webIn the past year, as we hav...  \n",
       "8342  [ With domestic and geopolitical tensions risi...  \n",
       "8343  [  With various nations eyeing each other susp...  \n",
       "\n",
       "[2086 rows x 13 columns]"
      ]
     },
     "execution_count": 41,
     "metadata": {},
     "output_type": "execute_result"
    }
   ],
   "source": [
    "merged_df6"
   ]
  },
  {
   "cell_type": "code",
   "execution_count": 42,
   "id": "aa27089b-a62a-47f6-a6cd-bd60a6042f06",
   "metadata": {},
   "outputs": [
    {
     "data": {
      "text/plain": [
       "[0.44008404, 0.5379476, 0.39775902, 0.5061847, 0.46048942, 0.70497674]"
      ]
     },
     "execution_count": 42,
     "metadata": {},
     "output_type": "execute_result"
    }
   ],
   "source": [
    "merged_df6.iloc[3]['similarity_scores']"
   ]
  },
  {
   "cell_type": "code",
   "execution_count": 258,
   "id": "45b824e3-0f27-46c1-a7f6-9b393e0da611",
   "metadata": {},
   "outputs": [],
   "source": [
    "#merged_df = merged_df.drop('similarity_scores', axis=1)"
   ]
  },
  {
   "cell_type": "code",
   "execution_count": 73,
   "id": "67b55daa-c7d3-460f-9b31-4047bec9e967",
   "metadata": {},
   "outputs": [
    {
     "data": {
      "text/plain": [
       "1148"
      ]
     },
     "execution_count": 73,
     "metadata": {},
     "output_type": "execute_result"
    }
   ],
   "source": [
    "merged_df6['max_sim'] = merged_df6['similarity_scores'].apply(lambda x: np.max(x))\n",
    "merged_df6['avg_sim'] = merged_df6['similarity_scores'].apply(lambda x: np.mean(x))\n",
    "\n",
    "correct_df = merged_df6[merged_df6['prediction'] == merged_df6['label']].copy()\n",
    "\n",
    "false_df = merged_df6[merged_df6['prediction'] != merged_df6['label']].copy()\n",
    "correct_df.shape[0]"
   ]
  },
  {
   "cell_type": "code",
   "execution_count": 44,
   "id": "07ac630c-74e1-4239-a0ad-bd5bd1f3640b",
   "metadata": {},
   "outputs": [
    {
     "data": {
      "text/plain": [
       "array(['Who or what is Leo?', 'What was the dog?',\n",
       "       'Where is International Police headquarters located?',\n",
       "       'Who is the oldest character?', 'Why is a day 720 hours long?',\n",
       "       'What is the author’s thesis?',\n",
       "       'What is revealed about the credentials of the author through the piece?',\n",
       "       'Do you think it would be fun to live in the universe in which this story takes place?',\n",
       "       'Who would most likely enjoy this story, of the following options?',\n",
       "       'Of the following options, which is not an issue discussed within this fantasy world?',\n",
       "       'Of the following options, who might enjoy this story the most?',\n",
       "       'Of the following options, which technological advancement is NOT a part of this story?',\n",
       "       'Do you think this story has a happy ending?',\n",
       "       'What is the overall tone of this article? Are there any changes in tone over the course of the article?',\n",
       "       'Of the following options, who might enjoy reading this the most?'],\n",
       "      dtype=object)"
      ]
     },
     "execution_count": 44,
     "metadata": {},
     "output_type": "execute_result"
    }
   ],
   "source": [
    "merged_df6[(merged_df6['avg_sim'] >= 0.1) & (merged_df6['avg_sim'] < 0.2)]['question'][:15].values"
   ]
  },
  {
   "cell_type": "code",
   "execution_count": 45,
   "id": "f8a9d2d0-266c-4921-8729-12f6d704df0c",
   "metadata": {},
   "outputs": [
    {
     "data": {
      "text/plain": [
       "['\"If this is true, it means we have at last found the foothold we have been seeking; a salient within easy striking distance of Jupiter, capital of the Alliance government. Our task is to verify the rumor and, if it be true, make a treaty with the Callistans.\" I said, \"Sweet howling stars—some assignment, sir! A chance to end this terrible war ..',\n",
       " 'So we must find a cook, or—\" \"The search,\" interrupted an oddly high-pitched, but not unpleasant voice, \"is over. Where\\'s the galley?\"I whirled, and so did the Old Man. Facing us was an outlandish little figure; a slim, trim, natty little Earthman not more than five-foot-two in height; a smooth-cheeked young fellow swaddled in a spaceman\\'s uniform at least three sizes too large. ',\n",
       " '\"Youdon\\'t look like much of a skipper tome. Do I get the job, or don\\'t I?\" The captain\\'s grin faded, and his jowls turned pink. I stepped forward hastily. ',\n",
       " '\"Smart Aleck!\" That was the Old Man, exploding into coherence at last. \"Rat-tailed, clever-cracking little smart Aleck! Don\\'t look like much of a skipper, eh? Well, my fine young rooster—\" I said quickly, \"If you don\\'t mind, sir, this is no time to worry over trifles. \\'Any port in a storm,\\' you know. And if this young mancancook—\" The skipper\\'s color subsided. ',\n",
       " '\"The Old Man\\'s one of the smartest space navigators who ever lifted gravs. He doesn\\'t need the advice or suggestions of a cook.\" \"But I was raised in the Belt,\" said the little chap plaintively. \"I know the Bog like a book. ',\n",
       " 'And us on the most vital mission of the whole ding-busted war!\" He was out of his seat, bustling to the audio, buzzing Lieutenant Wainwright on the bridge. ',\n",
       " 'We\\'re marked with the Federation tricolor!\" A sharp retort trembled on the tip of my tongue, but I never uttered it. Indeed, I swallowed it as comprehension dawned. There came to me the beginnings of respect for little Andy Laney\\'s wisdom. ']"
      ]
     },
     "execution_count": 45,
     "metadata": {},
     "output_type": "execute_result"
    }
   ],
   "source": [
    "merged_df6[(merged_df6['avg_sim'] >= 0.1) & (merged_df6['avg_sim'] < 0.2)].iloc[0]['selected_chunks']"
   ]
  },
  {
   "cell_type": "code",
   "execution_count": 93,
   "id": "3b3e3ef7-3e88-4ece-965f-b7d096697997",
   "metadata": {},
   "outputs": [
    {
     "data": {
      "text/plain": [
       "array([\"How much time has passed between Blake's night with Eldoria and his search for Sabrina York in his mind-world?\",\n",
       "       'Why does Deirdre get so upset when Blake Past suggests she go to prom with the young man?',\n",
       "       \"Why does shame flame in Blake's cheeks when Deirdre goes to prepare Eldoria's dias?\",\n",
       "       'Why did Blake create the three female super-images of Miss Stoddart, Officer Finch, and Vera Velvetskin?',\n",
       "       'Why does the text mean when it says that Korvin was \"unconscious\" at the time of his lessons in the local language?',\n",
       "       'How was Korvin able to avoid disclosing the true intent of his mission under the lie detector questioning? ',\n",
       "       \"What is the most likely reason for Korvin's solitude in jail?\",\n",
       "       \"Why does the Tr'en's logic fail them?\",\n",
       "       \"Are there indications that the Tr'en would be interested in attacking Earth? Why or why not?\",\n",
       "       'How did the Ruler become the Ruler?',\n",
       "       'Why does the Skipper stop abruptly after he says \"when you\\'re running a blockade\"?',\n",
       "       'Why does the Skipper allow the new chef to use the heat-cannon as an incinerator?',\n",
       "       \"Why didn't the Skipper follow the new cook's advice about avoiding Vesta?\",\n",
       "       'Why was the new cook so upset that the Skipper decided to surrender?',\n",
       "       'Why is Grimm annoyed that Charlotte slept beside Carlson?'],\n",
       "      dtype=object)"
      ]
     },
     "execution_count": 93,
     "metadata": {},
     "output_type": "execute_result"
    }
   ],
   "source": [
    "merged_df6[(merged_df6['avg_sim'] >= 0.4) & (merged_df6['avg_sim'] < 0.6)]['question'][:15].values"
   ]
  },
  {
   "cell_type": "code",
   "execution_count": null,
   "id": "3876aa99-7ace-4e62-ad37-a86e41d418fc",
   "metadata": {},
   "outputs": [],
   "source": []
  },
  {
   "cell_type": "code",
   "execution_count": 533,
   "id": "d036dc73-cd59-44bd-a3a5-7f8362e9e862",
   "metadata": {},
   "outputs": [
    {
     "data": {
      "text/plain": [
       "array(['Sabrina York is ',\n",
       "       \"Why doesn't Blake haggle with Eldoria about the price for her services?\",\n",
       "       \"Are there indications that the Tr'en would be interested in attacking Earth? Why or why not?\",\n",
       "       'The text says \"The expert frowned horribly.\" What makes the expert\\'s smile so horrible?',\n",
       "       'What is the most likely meaning of the slang O.Q.? (in twentieth-century American English)',\n",
       "       ' Lieutenant Dugan brings up the examples of \"High G\" Gordon and \"Runt\" Hake in order to illustrates that...',\n",
       "       'What does the Skipper mean by \"lady-logic\"?',\n",
       "       \"What would've happened if the new cook had told the Skipper about the ekalastron deposits earlier?\",\n",
       "       \"What is the Oans' unusual advantage? \",\n",
       "       'What is NOT a difference between the red people and the humans?'],\n",
       "      dtype=object)"
      ]
     },
     "execution_count": 533,
     "metadata": {},
     "output_type": "execute_result"
    }
   ],
   "source": [
    "merged_df6[(merged_df6['max_sim'] >= 0.4) & (merged_df6['max_sim'] < 0.5) ]['question'].values[:10]"
   ]
  },
  {
   "cell_type": "code",
   "execution_count": 47,
   "id": "4dd041af-ea12-40bf-82bd-4597cc9cd9ac",
   "metadata": {},
   "outputs": [],
   "source": [
    "ranges = [0, 0.1, 0.2, 0.3, 0.4, 0.5, 0.6, 0.7, 0.8, 0.9, 1]"
   ]
  },
  {
   "cell_type": "code",
   "execution_count": 48,
   "id": "e41e2ddf-933d-4a4f-8665-24234e505461",
   "metadata": {},
   "outputs": [
    {
     "name": "stdout",
     "output_type": "stream",
     "text": [
      "0-0.1: 2/2 = 1.00% correct\n",
      "0.1-0.2: 11/14 = 0.79% correct\n",
      "0.2-0.3: 37/66 = 0.56% correct\n",
      "0.3-0.4: 94/187 = 0.50% correct\n",
      "0.4-0.5: 248/474 = 0.52% correct\n",
      "0.5-0.6: 363/695 = 0.52% correct\n",
      "0.6-0.7: 304/521 = 0.58% correct\n",
      "0.7-0.8: 84/121 = 0.69% correct\n",
      "0.8-0.9: 5/6 = 0.83% correct\n",
      "0.9-1: 0/0\n",
      "2086, 1148\n"
     ]
    }
   ],
   "source": [
    "test_sum_total = 0\n",
    "test_sum_correct = 0\n",
    "for idx, minimum in enumerate(ranges[:-1]):\n",
    "    maximum = ranges[idx+1]\n",
    "    total_df = merged_df6[(merged_df6['max_sim'] >= minimum) & (merged_df6['avg_sim'] < maximum)].copy()\n",
    "    \n",
    "    correct_df = total_df[total_df['prediction'] == total_df['label']]\n",
    "\n",
    "    total = total_df.shape[0]\n",
    "    correct = correct_df.shape[0]\n",
    "    \n",
    "    test_sum_total += total\n",
    "    test_sum_correct += correct\n",
    "    if total > 0:\n",
    "        print(f'{minimum}-{maximum}: {correct}/{total} = {correct/total:.2f}% correct' )\n",
    "    else:\n",
    "        print(f'{minimum}-{maximum}: {correct}/{total}' )\n",
    "    #print(correct_df['max_sim'].shape[0])\n",
    "    '''\n",
    "    #total = filetered_df.shape[0]\n",
    "    print(filetered_df.shape)\n",
    "    #print(filetered_df)\n",
    "    correct = filetered_df[(merged_df6['prediction'] == merged_df6['label'])].shape[0]\n",
    "    print(filetered_df[(merged_df6['prediction'] == merged_df6['label'])].shape)\n",
    "    #if total > 0:\n",
    "        #percentage_correct = correct/total\n",
    "        #print(f'{limit}: {correct}' )'''\n",
    "print(f'{test_sum_total}, {test_sum_correct}')"
   ]
  },
  {
   "cell_type": "markdown",
   "id": "bff09a2b-6d23-4a14-9edf-d5cd67ccbb61",
   "metadata": {},
   "source": [
    "# for jakub"
   ]
  },
  {
   "cell_type": "code",
   "execution_count": 63,
   "id": "91fcca79-44cf-44c6-9d5a-5f7519b79fa0",
   "metadata": {},
   "outputs": [],
   "source": [
    "merged_df6['correct'] = merged_df6['prediction'] == merged_df6['label']\n",
    "save = merged_df6[['question_id', 'avg_sim', 'max_sim', 'correct']]\n",
    "save.to_csv('logistic_reg.csv', index=False)"
   ]
  },
  {
   "cell_type": "markdown",
   "id": "4d7eb37a-bab6-442b-bca5-c6c251835993",
   "metadata": {},
   "source": [
    "## Taking the maximum similarity score and plot for the correctly predicted and wrongly precited"
   ]
  },
  {
   "cell_type": "code",
   "execution_count": 91,
   "id": "7faaeab1-8cf8-46a7-b34b-b4ae280da056",
   "metadata": {},
   "outputs": [],
   "source": [
    "all_sim_scores_false = np.concatenate(false_df['similarity_scores'].values, axis=0)\n",
    "all_sim_scores_correct = np.concatenate(correct_df['similarity_scores'].values, axis=0)\n"
   ]
  },
  {
   "cell_type": "code",
   "execution_count": 92,
   "id": "922420ec-fb07-4e05-a2ab-0e3200eff358",
   "metadata": {},
   "outputs": [
    {
     "data": {
      "image/png": "[encoded data removed]",
      "text/plain": [
       "<Figure size 640x480 with 1 Axes>"
      ]
     },
     "metadata": {},
     "output_type": "display_data"
    }
   ],
   "source": [
    "import matplotlib.pyplot as plt\n",
    "\n",
    "bins = np.linspace(0,1,11)\n",
    "\n",
    "# Example array of values\n",
    "#values = correct_df['max_sim'].values\n",
    "values = all_sim_scores_correct\n",
    "# Plotting the distribution\n",
    "plt.hist(values, bins=bins, edgecolor='black', color='green', weights=np.ones(len(values)) / len(values))\n",
    "\n",
    "# Adding labels and title\n",
    "plt.xlabel('Similarity score')\n",
    "plt.ylabel('Frequency in %')\n",
    "plt.title('Distribution of maximum similarity score for correct predictions')\n",
    "\n",
    "# Display the plot\n",
    "plt.show()"
   ]
  },
  {
   "cell_type": "code",
   "execution_count": 88,
   "id": "6519ee3f-fa49-4c45-8186-ccb706871016",
   "metadata": {},
   "outputs": [],
   "source": []
  },
  {
   "cell_type": "code",
   "execution_count": 89,
   "id": "695ba8bb-8c2b-4385-86b4-5adc2f5cae9b",
   "metadata": {},
   "outputs": [
    {
     "data": {
      "image/png": "[encoded data removed]",
      "text/plain": [
       "<Figure size 640x480 with 1 Axes>"
      ]
     },
     "metadata": {},
     "output_type": "display_data"
    }
   ],
   "source": [
    "#values = false_df['max_sim'].values\n",
    "values = all_sim_scores_false\n",
    "# Plotting the distribution\n",
    "plt.hist(values, bins=bins, edgecolor='black', color='red', weights=np.ones(len(values)) / len(values))\n",
    "\n",
    "# Adding labels and title\n",
    "plt.xlabel('Similarity score')\n",
    "plt.ylabel('Frequency in %')\n",
    "plt.title('Distribution of maximum similarity score for wrong predictions')\n",
    "\n",
    "# Display the plot\n",
    "plt.show()"
   ]
  },
  {
   "cell_type": "code",
   "execution_count": null,
   "id": "95761bcd-10fa-4955-bfc1-0f4bd420277b",
   "metadata": {},
   "outputs": [],
   "source": []
  },
  {
   "cell_type": "code",
   "execution_count": null,
   "id": "ba464a83-0cb2-435d-b21a-7f2e317d5910",
   "metadata": {},
   "outputs": [],
   "source": []
  }
 ],
 "metadata": {
  "kernelspec": {
   "display_name": "Python 3 (ipykernel)",
   "language": "python",
   "name": "python3"
  },
  "language_info": {
   "codemirror_mode": {
    "name": "ipython",
    "version": 3
   },
   "file_extension": ".py",
   "mimetype": "text/x-python",
   "name": "python",
   "nbconvert_exporter": "python",
   "pygments_lexer": "ipython3",
   "version": "3.10.4"
  }
 },
 "nbformat": 4,
 "nbformat_minor": 5
}
